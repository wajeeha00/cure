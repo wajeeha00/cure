{
 "cells": [
  {
   "cell_type": "code",
   "execution_count": 9,
   "metadata": {},
   "outputs": [],
   "source": [
    "import time\n",
    "from collections import defaultdict\n",
    "from string import ascii_lowercase\n",
    "import random"
   ]
  },
  {
   "cell_type": "code",
   "execution_count": 10,
   "metadata": {},
   "outputs": [],
   "source": [
    "class LetterGuesssingException(Exception):\n",
    "    pass\n",
    "\n",
    "class LetterComesAfter(LetterGuesssingException):\n",
    "    pass\n",
    "\n",
    "class LetterComesBefore(LetterGuesssingException):\n",
    "    pass\n",
    "\n",
    "class NotALetter(LetterGuesssingException):\n",
    "    pass\n",
    "\n",
    "class LetterGuessingGame:\n",
    "    def __init__(self):\n",
    "        self.start_time = time.time()\n",
    "        self.performance = defaultdict(list)\n",
    "        self.correct_guess = False\n",
    "\n",
    "    @staticmethod\n",
    "    def _pick_a_letter():\n",
    "        print(\"Try guessing the letter the computer has choosen: \")\n",
    "        return random.choice(list(ascii_lowercase))\n",
    "\n",
    "    def play(self):\n",
    "        comp_choice = self._pick_a_letter()\n",
    "        guesses = None\n",
    "\n",
    "        while True:\n",
    "            try:\n",
    "                guess = input().strip().lower()\n",
    "                if guess not in list(ascii_lowercase):\n",
    "                    raise NotALetter\n",
    "                elif guess < comp_choice:\n",
    "                    raise LetterComesAfter\n",
    "                elif guess > comp_choice:\n",
    "                    raise LetterComesBefore \n",
    "\n",
    "                print(\"That is the Right Guess! Great Job!\")\n",
    "                self.correct_guess = True\n",
    "                break\n",
    "                    \n",
    "                        \n",
    "            except LetterComesAfter:\n",
    "                print(\"Wrong! It was something after the letter you guessed!\")\n",
    "                self.performance[\"Before\"].append(guess)\n",
    "            except LetterComesBefore:\n",
    "                print(\"Wrong! It was something before the letter you guessed!\")\n",
    "                self.performance[\"After\"].append(guess)\n",
    "            except NotALetter:\n",
    "                print(\"Wrong! Please Enter a Letter!\")\n",
    "        print(f\"It took you {round(time.time()-self.start_time)} Seconds to Guess\")\n",
    "        print(f\"Number of letter guessed before the right answer: {len(self.performance['Before'])}\")\n",
    "        print(f\"Number of letter guessed after the right answer: {len(self.performance['After'])}\")\n",
    "\n",
    "\n"
   ]
  },
  {
   "cell_type": "code",
   "execution_count": 11,
   "metadata": {},
   "outputs": [],
   "source": [
    "game1 = LetterGuessingGame()"
   ]
  },
  {
   "cell_type": "code",
   "execution_count": 12,
   "metadata": {},
   "outputs": [
    {
     "name": "stdout",
     "output_type": "stream",
     "text": [
      "Try guessing the letter the computer has choosen: \n",
      "Wrong! It was something after the letter you guessed!\n",
      "Wrong! It was something after the letter you guessed!\n",
      "Wrong! It was something after the letter you guessed!\n",
      "Wrong! It was something before the letter you guessed!\n",
      "Wrong! It was something before the letter you guessed!\n",
      "Wrong! It was something before the letter you guessed!\n",
      "Wrong! It was something before the letter you guessed!\n",
      "Wrong! It was something before the letter you guessed!\n",
      "Wrong! It was something before the letter you guessed!\n",
      "Wrong! It was something before the letter you guessed!\n",
      "Wrong! It was something before the letter you guessed!\n",
      "Wrong! It was something after the letter you guessed!\n",
      "That is the Right Guess! Great Job!\n",
      "It took you 26 Seconds to Guess\n",
      "Number of letter guessed before the right answer: 4\n",
      "Number of letter guessed after the right answer: 8\n"
     ]
    }
   ],
   "source": [
    "game1.play()"
   ]
  },
  {
   "cell_type": "code",
   "execution_count": null,
   "metadata": {},
   "outputs": [],
   "source": []
  }
 ],
 "metadata": {
  "kernelspec": {
   "display_name": "bootcamp",
   "language": "python",
   "name": "python3"
  },
  "language_info": {
   "codemirror_mode": {
    "name": "ipython",
    "version": 3
   },
   "file_extension": ".py",
   "mimetype": "text/x-python",
   "name": "python",
   "nbconvert_exporter": "python",
   "pygments_lexer": "ipython3",
   "version": "3.10.14"
  }
 },
 "nbformat": 4,
 "nbformat_minor": 2
}
