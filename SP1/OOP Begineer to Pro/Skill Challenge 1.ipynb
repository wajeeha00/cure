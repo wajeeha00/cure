{
 "cells": [
  {
   "cell_type": "code",
   "execution_count": 6,
   "metadata": {},
   "outputs": [],
   "source": [
    "from random import choice"
   ]
  },
  {
   "cell_type": "code",
   "execution_count": 7,
   "metadata": {},
   "outputs": [],
   "source": [
    "class Student():\n",
    "    education_platform = \"udemy\"\n",
    "\n",
    "    def __init__(self, name, age = 20):\n",
    "        self.name = name\n",
    "        self.age = age\n",
    "    \n",
    "    def greet(self):\n",
    "        greetings = [\"Hi, I'm \", \"Hey there, my name is \", \"Hi. Oh, my name is \"]\n",
    "\n",
    "        greeting = choice(greetings)\n",
    "        print(greeting, self.name)"
   ]
  },
  {
   "cell_type": "code",
   "execution_count": 8,
   "metadata": {},
   "outputs": [
    {
     "name": "stdout",
     "output_type": "stream",
     "text": [
      "Hi, I'm  Ammad\n",
      "Hi. Oh, my name is  Saad\n",
      "Hi, I'm  Haris\n",
      "Hi. Oh, my name is  Itqan\n",
      "Hi, I'm  Hadi\n"
     ]
    }
   ],
   "source": [
    "names = [\"Ammad\", \"Saad\", \"Haris\", \"Itqan\", \"Hadi\"]\n",
    "for name in names:\n",
    "    Student(name).greet()"
   ]
  },
  {
   "cell_type": "code",
   "execution_count": null,
   "metadata": {},
   "outputs": [],
   "source": []
  }
 ],
 "metadata": {
  "kernelspec": {
   "display_name": "Python 3",
   "language": "python",
   "name": "python3"
  },
  "language_info": {
   "codemirror_mode": {
    "name": "ipython",
    "version": 3
   },
   "file_extension": ".py",
   "mimetype": "text/x-python",
   "name": "python",
   "nbconvert_exporter": "python",
   "pygments_lexer": "ipython3",
   "version": "3.9.13"
  },
  "orig_nbformat": 4
 },
 "nbformat": 4,
 "nbformat_minor": 2
}
