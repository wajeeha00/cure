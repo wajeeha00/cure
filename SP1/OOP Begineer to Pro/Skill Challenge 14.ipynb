{
 "cells": [
  {
   "cell_type": "code",
   "execution_count": 1,
   "metadata": {},
   "outputs": [],
   "source": [
    "from itertools import product\n",
    "import random"
   ]
  },
  {
   "cell_type": "code",
   "execution_count": 2,
   "metadata": {},
   "outputs": [],
   "source": [
    "class PlayingCards:\n",
    "    def __init__(self, suit, rank):\n",
    "        self.suit = suit.lower()\n",
    "        self.rank = rank.lower()\n",
    "\n",
    "    def __eq__(self, other):\n",
    "        if not (self.suit==other.suit and self.rank==other.rank):\n",
    "            return False\n",
    "        return True\n",
    "    \n",
    "    def __repr__(self):\n",
    "        return f\"{self.__class__.__name__}(suit={self.suit}, rank={self.rank})\""
   ]
  },
  {
   "cell_type": "code",
   "execution_count": 3,
   "metadata": {},
   "outputs": [],
   "source": [
    "class CardDeck:\n",
    "    SUITS = ['diamonds','spades','clubs','hearts']\n",
    "    RANKS = list('ajqk') + list(str(num) for num in range(2,11))\n",
    "\n",
    "    def __init__(self, cards=None):\n",
    "        if type(cards) == list and len(cards) > 0:\n",
    "            self.cards = list(filter(lambda a: type(a)==PlayingCards, cards))\n",
    "        elif cards==None:\n",
    "            self.cards = [PlayingCards(*args) for args in product(self.SUITS, self.RANKS)]\n",
    "\n",
    "        \n",
    "    def __len__(self):\n",
    "        return len(self.cards)\n",
    "    \n",
    "    def __getitem__(self, idx):\n",
    "        if type(idx) == slice:\n",
    "            return CardDeck(self.cards[idx])\n",
    "        return self.cards[idx]\n",
    "    \n",
    "    def __add__(self, other):\n",
    "        if type(other)==PlayingCards:\n",
    "            return CardDeck([*self.cards,other])\n",
    "        elif type(other)==CardDeck:\n",
    "            return CardDeck([*self.cards, other.cards])\n",
    "      \n",
    "    def __radd__(self,other):\n",
    "        return self + other\n",
    "    \n",
    "    def __mul__(self, other):\n",
    "        if type(other)==int:\n",
    "            return CardDeck(self.cards*other)\n",
    "    \n",
    "    def __rmul__(self,other):\n",
    "        return self*other \n",
    "    \n",
    "    def draw(self, n=1):\n",
    "        drawn_list = list()\n",
    "\n",
    "        for _ in range(n):\n",
    "            idx = random.randrange(len(self))\n",
    "            drawn_list.append(self.cards.pop(idx))\n",
    "\n",
    "        if n==1:\n",
    "            return drawn_list[0]\n",
    "        else:\n",
    "            return CardDeck(drawn_list)\n",
    "    \n",
    "    def __repr__(self):\n",
    "        return f\"{self.__class__.__name__}(cards={repr(self.cards)})\""
   ]
  },
  {
   "cell_type": "code",
   "execution_count": 4,
   "metadata": {},
   "outputs": [],
   "source": [
    "cd = CardDeck()\n",
    "cd2 = CardDeck(cards = [PlayingCards(\"spades\", '4')])\n",
    "cd3 = CardDeck(cards = [PlayingCards(\"spades\", '4'), PlayingCards(\"spades\", '5')])"
   ]
  },
  {
   "cell_type": "code",
   "execution_count": 5,
   "metadata": {},
   "outputs": [
    {
     "data": {
      "text/plain": [
       "CardDeck(cards=[PlayingCards(suit=diamonds, rank=a), PlayingCards(suit=diamonds, rank=j), PlayingCards(suit=diamonds, rank=q), PlayingCards(suit=diamonds, rank=k), PlayingCards(suit=diamonds, rank=2), PlayingCards(suit=diamonds, rank=3), PlayingCards(suit=diamonds, rank=4), PlayingCards(suit=diamonds, rank=5), PlayingCards(suit=diamonds, rank=6), PlayingCards(suit=diamonds, rank=7), PlayingCards(suit=diamonds, rank=8), PlayingCards(suit=diamonds, rank=9), PlayingCards(suit=diamonds, rank=10), PlayingCards(suit=spades, rank=a), PlayingCards(suit=spades, rank=j), PlayingCards(suit=spades, rank=q), PlayingCards(suit=spades, rank=k), PlayingCards(suit=spades, rank=2), PlayingCards(suit=spades, rank=3), PlayingCards(suit=spades, rank=4), PlayingCards(suit=spades, rank=5), PlayingCards(suit=spades, rank=6), PlayingCards(suit=spades, rank=7), PlayingCards(suit=spades, rank=8), PlayingCards(suit=spades, rank=9), PlayingCards(suit=spades, rank=10), PlayingCards(suit=clubs, rank=a), PlayingCards(suit=clubs, rank=j), PlayingCards(suit=clubs, rank=q), PlayingCards(suit=clubs, rank=k), PlayingCards(suit=clubs, rank=2), PlayingCards(suit=clubs, rank=3), PlayingCards(suit=clubs, rank=4), PlayingCards(suit=clubs, rank=5), PlayingCards(suit=clubs, rank=6), PlayingCards(suit=clubs, rank=7), PlayingCards(suit=clubs, rank=8), PlayingCards(suit=clubs, rank=9), PlayingCards(suit=clubs, rank=10), PlayingCards(suit=hearts, rank=a), PlayingCards(suit=hearts, rank=j), PlayingCards(suit=hearts, rank=q), PlayingCards(suit=hearts, rank=k), PlayingCards(suit=hearts, rank=2), PlayingCards(suit=hearts, rank=3), PlayingCards(suit=hearts, rank=4), PlayingCards(suit=hearts, rank=5), PlayingCards(suit=hearts, rank=6), PlayingCards(suit=hearts, rank=7), PlayingCards(suit=hearts, rank=8), PlayingCards(suit=hearts, rank=9), PlayingCards(suit=hearts, rank=10)])"
      ]
     },
     "execution_count": 5,
     "metadata": {},
     "output_type": "execute_result"
    }
   ],
   "source": [
    "cd"
   ]
  },
  {
   "cell_type": "code",
   "execution_count": 6,
   "metadata": {},
   "outputs": [
    {
     "data": {
      "text/plain": [
       "CardDeck(cards=[PlayingCards(suit=spades, rank=4)])"
      ]
     },
     "execution_count": 6,
     "metadata": {},
     "output_type": "execute_result"
    }
   ],
   "source": [
    "cd2"
   ]
  },
  {
   "cell_type": "code",
   "execution_count": 7,
   "metadata": {},
   "outputs": [
    {
     "data": {
      "text/plain": [
       "CardDeck(cards=[PlayingCards(suit=spades, rank=4), PlayingCards(suit=spades, rank=5)])"
      ]
     },
     "execution_count": 7,
     "metadata": {},
     "output_type": "execute_result"
    }
   ],
   "source": [
    "cd3"
   ]
  },
  {
   "cell_type": "code",
   "execution_count": 8,
   "metadata": {},
   "outputs": [
    {
     "data": {
      "text/plain": [
       "CardDeck(cards=[PlayingCards(suit=spades, rank=4), PlayingCards(suit=diamonds, rank=3)])"
      ]
     },
     "execution_count": 8,
     "metadata": {},
     "output_type": "execute_result"
    }
   ],
   "source": [
    "cd2+PlayingCards('diamonds','3')"
   ]
  },
  {
   "cell_type": "code",
   "execution_count": 9,
   "metadata": {},
   "outputs": [
    {
     "data": {
      "text/plain": [
       "False"
      ]
     },
     "execution_count": 9,
     "metadata": {},
     "output_type": "execute_result"
    }
   ],
   "source": [
    "PlayingCards('diamonds','3') in cd2"
   ]
  },
  {
   "cell_type": "code",
   "execution_count": 10,
   "metadata": {},
   "outputs": [
    {
     "name": "stdout",
     "output_type": "stream",
     "text": [
      "PlayingCards(suit=spades, rank=4)\n",
      "PlayingCards(suit=spades, rank=5)\n"
     ]
    }
   ],
   "source": [
    "for card in cd3[0:2]:\n",
    "    print(card)"
   ]
  },
  {
   "cell_type": "code",
   "execution_count": null,
   "metadata": {},
   "outputs": [],
   "source": []
  }
 ],
 "metadata": {
  "kernelspec": {
   "display_name": "Python 3",
   "language": "python",
   "name": "python3"
  },
  "language_info": {
   "codemirror_mode": {
    "name": "ipython",
    "version": 3
   },
   "file_extension": ".py",
   "mimetype": "text/x-python",
   "name": "python",
   "nbconvert_exporter": "python",
   "pygments_lexer": "ipython3",
   "version": "3.10.14"
  }
 },
 "nbformat": 4,
 "nbformat_minor": 2
}
