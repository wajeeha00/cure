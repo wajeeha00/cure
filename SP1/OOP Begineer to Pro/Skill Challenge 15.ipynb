{
 "cells": [
  {
   "cell_type": "code",
   "execution_count": 1,
   "metadata": {},
   "outputs": [],
   "source": [
    "from dataclasses import dataclass\n",
    "from collections.abc import Sequence\n",
    "from random import randint, uniform\n"
   ]
  },
  {
   "cell_type": "code",
   "execution_count": 2,
   "metadata": {},
   "outputs": [],
   "source": [
    "@dataclass(frozen=True)\n",
    "class JobApplicant:\n",
    "    applicant_id: str\n",
    "    years_experience: int\n",
    "    is_recommended: bool\n",
    "    first_interview_score: float\n",
    "    second_interview_score: float\n"
   ]
  },
  {
   "cell_type": "code",
   "execution_count": 3,
   "metadata": {},
   "outputs": [],
   "source": [
    "class JobApplicantPool(Sequence):\n",
    "    def __init__(self, *args):\n",
    "        self._applicants = list(args)\n",
    "\n",
    "    def add(self, applicant):\n",
    "        self._applicants.append(applicant)\n",
    "\n",
    "    def __getitem__(self, item):\n",
    "        if type(item) == slice:\n",
    "            return type(self)(*self._applicants[item])\n",
    "        elif type(item) == int:\n",
    "            return self._applicants[item]\n",
    "\n",
    "        return NotImplemented\n",
    "\n",
    "    def __len__(self):\n",
    "        return len(self._applicants)\n",
    "\n",
    "    def __repr__(self):\n",
    "        sorted_applicants = sorted(self._applicants, key=self.score, reverse=True)\n",
    "        header = f\"Applicant Pool\\n(Score | ID)\\n{'-' * 20}\\n\"\n",
    "        return header + \"\\n\".join([\n",
    "            f\"{self.score(applicant)} - {applicant.applicant_id}\" for applicant in sorted_applicants\n",
    "        ])\n",
    "\n",
    "    @staticmethod\n",
    "    def score(applicant: JobApplicant):\n",
    "        return round(\n",
    "            applicant.years_experience * .5 +\n",
    "            applicant.is_recommended +\n",
    "            applicant.first_interview_score * .5 +\n",
    "            applicant.second_interview_score,\n",
    "            2)"
   ]
  },
  {
   "cell_type": "code",
   "execution_count": 4,
   "metadata": {},
   "outputs": [],
   "source": [
    "def generate_random_applicants(n=10):\n",
    "    return [\n",
    "        JobApplicant(\n",
    "            applicant_id=str(randint(10000, 90000)),\n",
    "            years_experience=randint(0, 10),\n",
    "            is_recommended=bool(randint(0, 1)),\n",
    "            first_interview_score=round(uniform(1.0, 10.0), 2),\n",
    "            second_interview_score=round(uniform(1.0, 10.0), 2)\n",
    "        ) for _ in range(n)\n",
    "    ]"
   ]
  },
  {
   "cell_type": "code",
   "execution_count": 5,
   "metadata": {},
   "outputs": [
    {
     "name": "stdout",
     "output_type": "stream",
     "text": [
      "Applicant Pool\n",
      "(Score | ID)\n",
      "--------------------\n",
      "16.39 - 66040\n",
      "13.23 - 85687\n",
      "12.03 - 40873\n",
      "10.86 - 37334\n",
      "9.94 - 11002\n",
      "9.78 - 60252\n",
      "8.3 - 61909\n",
      "7.78 - 18598\n",
      "6.87 - 40920\n",
      "5.88 - 52787\n"
     ]
    }
   ],
   "source": [
    "jab = JobApplicantPool(*generate_random_applicants())\n",
    "print(jab)"
   ]
  }
 ],
 "metadata": {
  "kernelspec": {
   "display_name": "bootcamp",
   "language": "python",
   "name": "python3"
  },
  "language_info": {
   "codemirror_mode": {
    "name": "ipython",
    "version": 3
   },
   "file_extension": ".py",
   "mimetype": "text/x-python",
   "name": "python",
   "nbconvert_exporter": "python",
   "pygments_lexer": "ipython3",
   "version": "3.10.14"
  }
 },
 "nbformat": 4,
 "nbformat_minor": 2
}
