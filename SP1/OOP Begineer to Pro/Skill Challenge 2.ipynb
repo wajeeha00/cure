{
 "cells": [
  {
   "cell_type": "code",
   "execution_count": 83,
   "metadata": {},
   "outputs": [],
   "source": [
    "from random import choices, choice\n",
    "from string import ascii_lowercase, punctuation, ascii_letters\n",
    "from copy import copy"
   ]
  },
  {
   "cell_type": "code",
   "execution_count": 84,
   "metadata": {},
   "outputs": [],
   "source": [
    "class Password():\n",
    "    INPUT_UNIVERSE = {\n",
    "        'numbers': list(range(10)),\n",
    "        'letters': list(ascii_letters),\n",
    "        'punctuation': list(punctuation)\n",
    "    }\n",
    "    DEFAULT_LENGTH = {\n",
    "        \"low\": 8,\n",
    "        \"mid\": 12,\n",
    "        \"high\": 16\n",
    "    }\n",
    "\n",
    "    @classmethod\n",
    "    def show_input_universe(cls):\n",
    "        return cls.INPUT_UNIVERSE\n",
    "\n",
    "    \n",
    "    def __init__(self,  length = None, strength = 'mid'):\n",
    "        self.strength = strength\n",
    "        self.length = length\n",
    "        self._generate()\n",
    "    \n",
    "    def _generate(self):\n",
    "        population = copy(self.INPUT_UNIVERSE['letters'])\n",
    "        length = self.length or self.DEFAULT_LENGTH.get(self.strength)\n",
    "        if self.strength == 'high':\n",
    "            population += self.INPUT_UNIVERSE['numbers'] + self.INPUT_UNIVERSE['punctuation']\n",
    "        else:\n",
    "            population += self.INPUT_UNIVERSE['numbers']\n",
    "\n",
    "        self.password = ''.join(list(map(str, choices(population,k=length))))\n",
    "        return self.password\n"
   ]
  },
  {
   "cell_type": "code",
   "execution_count": 90,
   "metadata": {},
   "outputs": [
    {
     "name": "stdout",
     "output_type": "stream",
     "text": [
      "U8kHUR\n"
     ]
    }
   ],
   "source": [
    "weak_pass = print(Password(strength='mid', length = 6).password)"
   ]
  },
  {
   "cell_type": "code",
   "execution_count": null,
   "metadata": {},
   "outputs": [],
   "source": []
  }
 ],
 "metadata": {
  "kernelspec": {
   "display_name": "Python 3",
   "language": "python",
   "name": "python3"
  },
  "language_info": {
   "codemirror_mode": {
    "name": "ipython",
    "version": 3
   },
   "file_extension": ".py",
   "mimetype": "text/x-python",
   "name": "python",
   "nbconvert_exporter": "python",
   "pygments_lexer": "ipython3",
   "version": "3.9.13"
  },
  "orig_nbformat": 4
 },
 "nbformat": 4,
 "nbformat_minor": 2
}
