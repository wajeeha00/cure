{
 "cells": [
  {
   "cell_type": "code",
   "execution_count": 2,
   "metadata": {},
   "outputs": [],
   "source": [
    "class Contact:\n",
    "\n",
    "    def __init__(self, name, last_name, phone = None, email = None, display_mode = \"masked\"):\n",
    "        self.name = name\n",
    "        self.last_name = last_name\n",
    "        self.phone = phone\n",
    "        self.email = email\n",
    "        self.display_mode = display_mode\n",
    "\n",
    "    def __repr__(self):\n",
    "        if self.display_mode == \"masked\":\n",
    "            hidden = []\n",
    "            hidden.append(\"*\"*len(self.name[2:]))\n",
    "            hidden.append(\"*\"*(len(self.last_name)-1))\n",
    "            return f\"Contact(name={self.name[0:2]}{hidden[0]}, last_name={self.last_name[0]}{hidden[1]})\"\n",
    "        else:\n",
    "            return f\"Attributes:{self.name}, {self.last_name}, {self.phone}, {self.email}, {self.display_mode}\"\n",
    "    \n",
    "    def __eq__(self, other):\n",
    "        if not isinstance(other, Contact):\n",
    "            return False\n",
    "        else: \n",
    "            if self.phone != None or self.email != None:\n",
    "                if self.phone == other.phone or self.email == other.email:\n",
    "                    return True\n",
    "            elif self.name == other.name and self.last_name == other.last_name:\n",
    "                return True\n",
    "            else:\n",
    "                return False\n",
    "            \n",
    "    def __hash__(self):\n",
    "        return hash((self.name, self.last_name, self.phone, self.email))\n",
    "\n",
    "    def __str__(self):\n",
    "        return f\"{self.last_name[0]}{self.name[0]}\"\n",
    "    \n",
    "    def __format__(self, format_spec):\n",
    "        if format_spec == \"masked\":\n",
    "            return self.__repr__()\n",
    "        return f\"Contact(name={self.name}, last_name={self.last_name}, phone={self.phone}, email={self.email}\"\n"
   ]
  },
  {
   "cell_type": "code",
   "execution_count": 3,
   "metadata": {},
   "outputs": [],
   "source": [
    "c1 = Contact(\"Andy\", \"Bek\")\n",
    "c2 = Contact(\"Andy\", \"Bek\",\"6475379724\")\n",
    "c3 = Contact(\"Andy\", \"Bek\",\"6475379724\" \"hey@andybek.com\")\n",
    "c4 = Contact(\"Andy\", \"Bek\",\"6475379724\" \"hey@andybek.com\", \"show\")"
   ]
  },
  {
   "cell_type": "code",
   "execution_count": 4,
   "metadata": {},
   "outputs": [
    {
     "data": {
      "text/plain": [
       "True"
      ]
     },
     "execution_count": 4,
     "metadata": {},
     "output_type": "execute_result"
    }
   ],
   "source": [
    "c2 == c3"
   ]
  },
  {
   "cell_type": "code",
   "execution_count": 5,
   "metadata": {},
   "outputs": [
    {
     "data": {
      "text/plain": [
       "Contact(name=An**, last_name=B**)"
      ]
     },
     "execution_count": 5,
     "metadata": {},
     "output_type": "execute_result"
    }
   ],
   "source": [
    "c1"
   ]
  },
  {
   "cell_type": "code",
   "execution_count": 6,
   "metadata": {},
   "outputs": [
    {
     "data": {
      "text/plain": [
       "'Contact(name=Andy, last_name=Bek, phone=6475379724, email=None'"
      ]
     },
     "execution_count": 6,
     "metadata": {},
     "output_type": "execute_result"
    }
   ],
   "source": [
    "\"{c:unmasked}\".format(c=c2)"
   ]
  },
  {
   "cell_type": "code",
   "execution_count": 7,
   "metadata": {},
   "outputs": [
    {
     "data": {
      "text/plain": [
       "'Contact(name=An**, last_name=B**)'"
      ]
     },
     "execution_count": 7,
     "metadata": {},
     "output_type": "execute_result"
    }
   ],
   "source": [
    "format(c3,\"masked\")"
   ]
  }
 ],
 "metadata": {
  "kernelspec": {
   "display_name": "bootcamp",
   "language": "python",
   "name": "python3"
  },
  "language_info": {
   "codemirror_mode": {
    "name": "ipython",
    "version": 3
   },
   "file_extension": ".py",
   "mimetype": "text/x-python",
   "name": "python",
   "nbconvert_exporter": "python",
   "pygments_lexer": "ipython3",
   "version": "3.9.13"
  }
 },
 "nbformat": 4,
 "nbformat_minor": 2
}
