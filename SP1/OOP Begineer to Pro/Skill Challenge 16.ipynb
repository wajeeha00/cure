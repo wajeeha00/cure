{
 "cells": [
  {
   "cell_type": "code",
   "execution_count": 1,
   "metadata": {},
   "outputs": [],
   "source": [
    "from random import choices\n",
    "import re"
   ]
  },
  {
   "cell_type": "code",
   "execution_count": 2,
   "metadata": {},
   "outputs": [],
   "source": [
    "class MasterCardMixin:\n",
    "    def generate(self):\n",
    "        return [5, 3] + super().generate()\n",
    "\n",
    "\n",
    "class VisaMixin:\n",
    "    def generate(self):\n",
    "        return [4, 2] + super().generate()\n",
    "\n",
    "\n",
    "class ValidMixin:\n",
    "    def generate(self):\n",
    "        number = super().generate()\n",
    "        return number[:-1] + [self.calculate_checksum(number[:-1])]\n",
    "    @staticmethod\n",
    "    def calculate_checksum(numbers):\n",
    "        cumulative_sum = 0\n",
    "        toggle = True\n",
    "\n",
    "        for num in numbers[::-1]:\n",
    "            n = num * 2 if toggle else num\n",
    "            toggle = not toggle\n",
    "\n",
    "            if n > 9:\n",
    "                cumulative_sum += n - 9\n",
    "            else:\n",
    "                cumulative_sum += n\n",
    "\n",
    "        return 10 - cumulative_sum % 10  # checksum\n",
    "\n"
   ]
  },
  {
   "cell_type": "code",
   "execution_count": 3,
   "metadata": {},
   "outputs": [],
   "source": [
    "class CreditCard:\n",
    "    DIGITS = list(range(9))\n",
    "\n",
    "    def __init__(self):\n",
    "        self._number = self.generate()\n",
    "\n",
    "    def generate(self):\n",
    "        return choices(self.DIGITS, k=14)\n",
    "\n",
    "    @property\n",
    "    def number(self):\n",
    "        s = \"\".join(map(str, self._number))  # \"12341234\"\n",
    "        return \" \".join(re.findall('.{4}', s))  # [\"1234\", \"1234\"]\n"
   ]
  },
  {
   "cell_type": "code",
   "execution_count": 4,
   "metadata": {},
   "outputs": [],
   "source": [
    "class Visa(VisaMixin, CreditCard):\n",
    "    pass\n",
    "\n",
    "\n",
    "class ValidVisa(ValidMixin, VisaMixin, CreditCard):\n",
    "    pass\n",
    "\n",
    "\n",
    "class MasterCard(ValidMixin, MasterCardMixin, CreditCard):\n",
    "    pass\n"
   ]
  },
  {
   "cell_type": "code",
   "execution_count": 10,
   "metadata": {},
   "outputs": [
    {
     "name": "stdout",
     "output_type": "stream",
     "text": [
      "        Random visa: 4204 4784 0008 4250\n",
      "         Valid visa: 4262 5751 0807 7831\n",
      "   Valid mastercard: 5367 1187 2560 6831\n"
     ]
    }
   ],
   "source": [
    "random_visa = Visa()\n",
    "print(f\"Random visa: {random_visa.number}\".rjust(40))\n",
    "\n",
    "valid_visa = ValidVisa()\n",
    "print(f\"Valid visa: {valid_visa.number}\".rjust(40))\n",
    "\n",
    "master_card = MasterCard()\n",
    "print(f\"Valid mastercard: {master_card.number}\".rjust(40))"
   ]
  },
  {
   "cell_type": "code",
   "execution_count": null,
   "metadata": {},
   "outputs": [],
   "source": []
  },
  {
   "cell_type": "code",
   "execution_count": null,
   "metadata": {},
   "outputs": [],
   "source": []
  }
 ],
 "metadata": {
  "kernelspec": {
   "display_name": "tfgpu",
   "language": "python",
   "name": "python3"
  },
  "language_info": {
   "codemirror_mode": {
    "name": "ipython",
    "version": 3
   },
   "file_extension": ".py",
   "mimetype": "text/x-python",
   "name": "python",
   "nbconvert_exporter": "python",
   "pygments_lexer": "ipython3",
   "version": "3.10.14"
  }
 },
 "nbformat": 4,
 "nbformat_minor": 2
}
