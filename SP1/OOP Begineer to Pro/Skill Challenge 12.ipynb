{
 "cells": [
  {
   "cell_type": "code",
   "execution_count": 1,
   "metadata": {},
   "outputs": [],
   "source": [
    "from enum import Flag, auto"
   ]
  },
  {
   "cell_type": "code",
   "execution_count": 2,
   "metadata": {},
   "outputs": [],
   "source": [
    "class Permission(Flag):\n",
    "    READ = auto()\n",
    "    WRITE = auto()\n",
    "    EXEC = auto()"
   ]
  },
  {
   "cell_type": "code",
   "execution_count": 3,
   "metadata": {},
   "outputs": [],
   "source": [
    "class baseUser:\n",
    "    roles = {\"admin\":Permission.READ | Permission.WRITE | Permission.EXEC,\n",
    "             \"user\":Permission.READ,\n",
    "             \"manager\":Permission.READ | Permission.WRITE,\n",
    "             \"support\":Permission.EXEC} \n",
    "    \n",
    "    def assign_permission(self):\n",
    "        if self.user_role in self.roles:\n",
    "            return Permission(self.roles.get(self.user_role))\n",
    "        elif type(self.user_role)== int:\n",
    "            try:\n",
    "                Permission(self.user_role)\n",
    "            except ValueError:\n",
    "                return Permission.READ\n",
    "            else:\n",
    "                return Permission(self.user_role)\n",
    "        \n",
    "    def _check_permission(self, permission):\n",
    "        if permission not in self.permissions:\n",
    "            raise PermissionError(f\"User does not have {permission.name} permission.\")\n",
    "\n",
    "    def __init__(self, name, user_role):\n",
    "        self.name = name\n",
    "        self.user_role = user_role\n",
    "        self.permission = Permission(None)\n",
    "\n",
    "    def read(self, file=\"script.py\"):\n",
    "        self._check_permission(Permission.READ)\n",
    "        with open(file) as f:\n",
    "            return f.read()\n",
    "    \n",
    "    def write(self, file=\"script.py\", content = \"\"):\n",
    "        self._check_permission(Permission.WRITE)\n",
    "        with open(file, \"w\") as f:\n",
    "            f.write(content)\n",
    "            print (\"Write Successful\")\n",
    "    \n",
    "    def execute(self, file=\"script.py\"):\n",
    "        self._check_permission(Permission.EXEC)\n",
    "        exec(open(file).read())\n",
    "\n",
    "    def __repr__(self):\n",
    "        return f\"{type(self).__name__}(name={self.name}, user_role={self.user_role})\"\n"
   ]
  },
  {
   "cell_type": "code",
   "execution_count": 4,
   "metadata": {},
   "outputs": [],
   "source": [
    "class User(baseUser):\n",
    "    def __init__(self, name, user_role):\n",
    "        self.name = name\n",
    "        self.user_role = user_role\n",
    "        self.permissions = self.assign_permission()"
   ]
  },
  {
   "cell_type": "code",
   "execution_count": 5,
   "metadata": {},
   "outputs": [],
   "source": [
    "u1 = User(\"Ammad\",\"admin\")"
   ]
  },
  {
   "cell_type": "code",
   "execution_count": 6,
   "metadata": {},
   "outputs": [],
   "source": [
    "u2 = User(\"Saad\",\"user\")"
   ]
  },
  {
   "cell_type": "code",
   "execution_count": 7,
   "metadata": {},
   "outputs": [
    {
     "name": "stdout",
     "output_type": "stream",
     "text": [
      "Hello\n"
     ]
    }
   ],
   "source": [
    "u1.execute()"
   ]
  },
  {
   "cell_type": "code",
   "execution_count": 8,
   "metadata": {},
   "outputs": [],
   "source": [
    "u3 = User(\"Haadi\",7)"
   ]
  },
  {
   "cell_type": "code",
   "execution_count": 9,
   "metadata": {},
   "outputs": [
    {
     "name": "stdout",
     "output_type": "stream",
     "text": [
      "Write Successful\n"
     ]
    }
   ],
   "source": [
    "u3.write(content=\"print('This is a test Run')\")"
   ]
  },
  {
   "cell_type": "code",
   "execution_count": 10,
   "metadata": {},
   "outputs": [
    {
     "data": {
      "text/plain": [
       "User(name=Haadi, user_role=7)"
      ]
     },
     "execution_count": 10,
     "metadata": {},
     "output_type": "execute_result"
    }
   ],
   "source": [
    "u3"
   ]
  },
  {
   "cell_type": "code",
   "execution_count": 11,
   "metadata": {},
   "outputs": [],
   "source": [
    "u4 = User(\"Test\",3214123)"
   ]
  },
  {
   "cell_type": "code",
   "execution_count": null,
   "metadata": {},
   "outputs": [],
   "source": []
  }
 ],
 "metadata": {
  "kernelspec": {
   "display_name": "bootcamp",
   "language": "python",
   "name": "python3"
  },
  "language_info": {
   "codemirror_mode": {
    "name": "ipython",
    "version": 3
   },
   "file_extension": ".py",
   "mimetype": "text/x-python",
   "name": "python",
   "nbconvert_exporter": "python",
   "pygments_lexer": "ipython3",
   "version": "3.10.14"
  }
 },
 "nbformat": 4,
 "nbformat_minor": 2
}
