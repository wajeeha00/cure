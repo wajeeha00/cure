{
 "cells": [
  {
   "cell_type": "code",
   "execution_count": 1,
   "metadata": {},
   "outputs": [],
   "source": [
    "import pandas\n",
    "\n",
    "df = pandas.read_csv(\"hotels.csv\", dtype={\"id\":str})\n",
    "df_cards = pandas.read_csv(\"cards.csv\", dtype = str).to_dict(orient=\"records\")\n",
    "df_cards_security = pandas.read_csv(\"card_security.csv\", dtype = str)"
   ]
  },
  {
   "cell_type": "code",
   "execution_count": 2,
   "metadata": {},
   "outputs": [
    {
     "data": {
      "text/plain": [
       "[{'number': '1234',\n",
       "  'expiration': '26-Dec',\n",
       "  'cvc': '123',\n",
       "  'holder': 'JOHN SMITH'},\n",
       " {'number': '5678',\n",
       "  'expiration': '28-Dec',\n",
       "  'cvc': '456',\n",
       "  'holder': 'JANE SMITH'}]"
      ]
     },
     "execution_count": 2,
     "metadata": {},
     "output_type": "execute_result"
    }
   ],
   "source": [
    "df_cards"
   ]
  },
  {
   "cell_type": "code",
   "execution_count": 3,
   "metadata": {},
   "outputs": [
    {
     "name": "stdout",
     "output_type": "stream",
     "text": [
      "    id                     name        city  capacity available\n",
      "0  134  Tourist Sunny Apartment   Anchorage         4        no\n",
      "1  188              Snow Palace   New Delhi         5        no\n",
      "2  655           City Break Inn  Porto-Novo         3       yes\n",
      "\n",
      "                Thank you for your reservation\n",
      "                Here are your booking data:\n",
      "                Name: Ammad Ali\n",
      "                Hotel Name: City Break Inn\n",
      "None\n"
     ]
    }
   ],
   "source": [
    "\n",
    "class Hotel:\n",
    "    def __init__(self, hotel_id):\n",
    "        self.hotel_id = hotel_id\n",
    "        self.name = df.loc[df[\"id\"]==self.hotel_id, \"name\"].squeeze()\n",
    "\n",
    "    def book(self):\n",
    "        df.loc[df[\"id\"]==self.hotel_id, \"available\"] = \"no\"\n",
    "        df.to_csv(\"hotels.csv\", index=False)\n",
    "\n",
    "    def available(self):\n",
    "        availability = df.loc[df[\"id\"]==self.hotel_id, \"available\"].squeeze()\n",
    "        if availability == \"yes\":\n",
    "            return True\n",
    "        else:\n",
    "            return False\n",
    "\n",
    "class ReservationTicket:\n",
    "    def __init__(self, customer_name, hotel_object):\n",
    "        self.customer_name = customer_name\n",
    "        self.hotel_object = hotel_object\n",
    "        pass\n",
    "    \n",
    "    def generate(self):\n",
    "        content = f\"\"\"\n",
    "                Thank you for your reservation\n",
    "                Here are your booking data:\n",
    "                Name: {self.customer_name}\n",
    "                Hotel Name: {self.hotel_object.name}\"\"\"\n",
    "        print(content)\n",
    "class CreditCard:\n",
    "    def __init__(self, card_num):\n",
    "        self.card_num = card_num\n",
    "\n",
    "    def validate(self, expiry, holder, cvc):\n",
    "        data = {\"number\":self.card_num, \"expiration\":expiry, \"holder\":holder, \"cvc\":cvc}\n",
    "        if data in df_cards:\n",
    "            return True\n",
    "        else:\n",
    "            return False\n",
    "        \n",
    "class SecureCreditCard(CreditCard):\n",
    "    def authenticate(self, password):\n",
    "        true_pass = df_cards_security.loc[df_cards_security[\"number\"]==self.card_num, \"password\"].squeeze()\n",
    "        if true_pass == password:\n",
    "            return True\n",
    "        else:\n",
    "            return False\n",
    "\n",
    "if __name__ == \"__main__\":\n",
    "    print(df)\n",
    "    hotel_id = input(\"Enter the ID of the hotel: \")\n",
    "    hotel = Hotel(hotel_id)\n",
    "    if hotel.available():\n",
    "        no = input(\"Enter your Credit Card Number: \")\n",
    "        secure_credit_card = SecureCreditCard(no)\n",
    "        expiry = input(\"Enter the Expiry Date: \")\n",
    "        holder = input(\"Enter the Name of Card Holder: \")\n",
    "        cvc = input(\"Enter the 3 digit CVC: \")\n",
    "        if secure_credit_card.validate(expiry, holder, cvc):\n",
    "            password = input(\"Please Enter your Credit Card Password: \")\n",
    "            if secure_credit_card.authenticate(password):\n",
    "                hotel.book()\n",
    "                name = input(\"Enter your Name: \")\n",
    "                reservation_ticket = ReservationTicket(name, hotel)\n",
    "                print(reservation_ticket.generate())\n",
    "            else:\n",
    "                print(\"Card authentication failed!\")\n",
    "        else:\n",
    "            print(\"There was a problem with your payment!\")\n",
    "    else:\n",
    "        print(\"Hotel is not free\")"
   ]
  },
  {
   "cell_type": "code",
   "execution_count": null,
   "metadata": {},
   "outputs": [],
   "source": []
  }
 ],
 "metadata": {
  "kernelspec": {
   "display_name": "bootcamp",
   "language": "python",
   "name": "python3"
  },
  "language_info": {
   "codemirror_mode": {
    "name": "ipython",
    "version": 3
   },
   "file_extension": ".py",
   "mimetype": "text/x-python",
   "name": "python",
   "nbconvert_exporter": "python",
   "pygments_lexer": "ipython3",
   "version": "3.10.14"
  }
 },
 "nbformat": 4,
 "nbformat_minor": 2
}
