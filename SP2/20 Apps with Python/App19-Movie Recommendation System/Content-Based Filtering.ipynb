{
 "cells": [
  {
   "cell_type": "code",
   "execution_count": 10,
   "metadata": {},
   "outputs": [],
   "source": [
    "import pandas\n",
    "movies = pandas.read_csv(\"movies_small.csv\", sep=\";\")"
   ]
  },
  {
   "cell_type": "code",
   "execution_count": 11,
   "metadata": {},
   "outputs": [],
   "source": [
    "from sklearn.feature_extraction.text import TfidfVectorizer\n",
    "tfidf = TfidfVectorizer(stop_words=\"english\")\n",
    "movies[\"overview\"] = movies[\"overview\"].fillna(\"\")\n"
   ]
  },
  {
   "cell_type": "code",
   "execution_count": 12,
   "metadata": {},
   "outputs": [],
   "source": [
    "tfidf_matrix = tfidf.fit_transform(movies[\"overview\"])"
   ]
  },
  {
   "cell_type": "code",
   "execution_count": 14,
   "metadata": {},
   "outputs": [
    {
     "data": {
      "text/html": [
       "<div>\n",
       "<style scoped>\n",
       "    .dataframe tbody tr th:only-of-type {\n",
       "        vertical-align: middle;\n",
       "    }\n",
       "\n",
       "    .dataframe tbody tr th {\n",
       "        vertical-align: top;\n",
       "    }\n",
       "\n",
       "    .dataframe thead th {\n",
       "        text-align: right;\n",
       "    }\n",
       "</style>\n",
       "<table border=\"1\" class=\"dataframe\">\n",
       "  <thead>\n",
       "    <tr style=\"text-align: right;\">\n",
       "      <th></th>\n",
       "      <th>26</th>\n",
       "      <th>abducted</th>\n",
       "      <th>accuser</th>\n",
       "      <th>adventure</th>\n",
       "      <th>adventures</th>\n",
       "      <th>assumes</th>\n",
       "      <th>attorney</th>\n",
       "      <th>awesomeness</th>\n",
       "      <th>bane</th>\n",
       "      <th>barsoom</th>\n",
       "      <th>...</th>\n",
       "      <th>terrorist</th>\n",
       "      <th>threats</th>\n",
       "      <th>toretto</th>\n",
       "      <th>transported</th>\n",
       "      <th>villainous</th>\n",
       "      <th>wanted</th>\n",
       "      <th>war</th>\n",
       "      <th>weary</th>\n",
       "      <th>world</th>\n",
       "      <th>years</th>\n",
       "    </tr>\n",
       "  </thead>\n",
       "  <tbody>\n",
       "    <tr>\n",
       "      <th>0</th>\n",
       "      <td>0.000000</td>\n",
       "      <td>0.000000</td>\n",
       "      <td>0.000000</td>\n",
       "      <td>0.000000</td>\n",
       "      <td>0.000000</td>\n",
       "      <td>0.00000</td>\n",
       "      <td>0.000000</td>\n",
       "      <td>0.000000</td>\n",
       "      <td>0.00000</td>\n",
       "      <td>0.000000</td>\n",
       "      <td>...</td>\n",
       "      <td>0.00000</td>\n",
       "      <td>0.000000</td>\n",
       "      <td>0.333333</td>\n",
       "      <td>0.000000</td>\n",
       "      <td>0.00000</td>\n",
       "      <td>0.000000</td>\n",
       "      <td>0.000000</td>\n",
       "      <td>0.000000</td>\n",
       "      <td>0.000000</td>\n",
       "      <td>0.000000</td>\n",
       "    </tr>\n",
       "    <tr>\n",
       "      <th>1</th>\n",
       "      <td>0.000000</td>\n",
       "      <td>0.000000</td>\n",
       "      <td>0.000000</td>\n",
       "      <td>0.190097</td>\n",
       "      <td>0.000000</td>\n",
       "      <td>0.00000</td>\n",
       "      <td>0.000000</td>\n",
       "      <td>0.000000</td>\n",
       "      <td>0.00000</td>\n",
       "      <td>0.000000</td>\n",
       "      <td>...</td>\n",
       "      <td>0.00000</td>\n",
       "      <td>0.000000</td>\n",
       "      <td>0.000000</td>\n",
       "      <td>0.000000</td>\n",
       "      <td>0.00000</td>\n",
       "      <td>0.000000</td>\n",
       "      <td>0.000000</td>\n",
       "      <td>0.000000</td>\n",
       "      <td>0.155883</td>\n",
       "      <td>0.000000</td>\n",
       "    </tr>\n",
       "    <tr>\n",
       "      <th>2</th>\n",
       "      <td>0.237761</td>\n",
       "      <td>0.237761</td>\n",
       "      <td>0.237761</td>\n",
       "      <td>0.000000</td>\n",
       "      <td>0.000000</td>\n",
       "      <td>0.00000</td>\n",
       "      <td>0.000000</td>\n",
       "      <td>0.000000</td>\n",
       "      <td>0.00000</td>\n",
       "      <td>0.000000</td>\n",
       "      <td>...</td>\n",
       "      <td>0.00000</td>\n",
       "      <td>0.000000</td>\n",
       "      <td>0.000000</td>\n",
       "      <td>0.000000</td>\n",
       "      <td>0.00000</td>\n",
       "      <td>0.237761</td>\n",
       "      <td>0.000000</td>\n",
       "      <td>0.000000</td>\n",
       "      <td>0.000000</td>\n",
       "      <td>0.389934</td>\n",
       "    </tr>\n",
       "    <tr>\n",
       "      <th>3</th>\n",
       "      <td>0.000000</td>\n",
       "      <td>0.000000</td>\n",
       "      <td>0.000000</td>\n",
       "      <td>0.000000</td>\n",
       "      <td>0.270444</td>\n",
       "      <td>0.00000</td>\n",
       "      <td>0.000000</td>\n",
       "      <td>0.270444</td>\n",
       "      <td>0.00000</td>\n",
       "      <td>0.000000</td>\n",
       "      <td>...</td>\n",
       "      <td>0.00000</td>\n",
       "      <td>0.270444</td>\n",
       "      <td>0.000000</td>\n",
       "      <td>0.000000</td>\n",
       "      <td>0.00000</td>\n",
       "      <td>0.000000</td>\n",
       "      <td>0.000000</td>\n",
       "      <td>0.000000</td>\n",
       "      <td>0.000000</td>\n",
       "      <td>0.000000</td>\n",
       "    </tr>\n",
       "    <tr>\n",
       "      <th>4</th>\n",
       "      <td>0.000000</td>\n",
       "      <td>0.000000</td>\n",
       "      <td>0.000000</td>\n",
       "      <td>0.000000</td>\n",
       "      <td>0.000000</td>\n",
       "      <td>0.13565</td>\n",
       "      <td>0.271301</td>\n",
       "      <td>0.000000</td>\n",
       "      <td>0.13565</td>\n",
       "      <td>0.000000</td>\n",
       "      <td>...</td>\n",
       "      <td>0.13565</td>\n",
       "      <td>0.000000</td>\n",
       "      <td>0.000000</td>\n",
       "      <td>0.000000</td>\n",
       "      <td>0.13565</td>\n",
       "      <td>0.000000</td>\n",
       "      <td>0.000000</td>\n",
       "      <td>0.000000</td>\n",
       "      <td>0.000000</td>\n",
       "      <td>0.111235</td>\n",
       "    </tr>\n",
       "    <tr>\n",
       "      <th>5</th>\n",
       "      <td>0.000000</td>\n",
       "      <td>0.000000</td>\n",
       "      <td>0.000000</td>\n",
       "      <td>0.000000</td>\n",
       "      <td>0.000000</td>\n",
       "      <td>0.00000</td>\n",
       "      <td>0.000000</td>\n",
       "      <td>0.000000</td>\n",
       "      <td>0.00000</td>\n",
       "      <td>0.353458</td>\n",
       "      <td>...</td>\n",
       "      <td>0.00000</td>\n",
       "      <td>0.000000</td>\n",
       "      <td>0.000000</td>\n",
       "      <td>0.176729</td>\n",
       "      <td>0.00000</td>\n",
       "      <td>0.000000</td>\n",
       "      <td>0.176729</td>\n",
       "      <td>0.176729</td>\n",
       "      <td>0.144920</td>\n",
       "      <td>0.000000</td>\n",
       "    </tr>\n",
       "  </tbody>\n",
       "</table>\n",
       "<p>6 rows × 121 columns</p>\n",
       "</div>"
      ],
      "text/plain": [
       "         26  abducted   accuser  adventure  adventures  assumes  attorney  \\\n",
       "0  0.000000  0.000000  0.000000   0.000000    0.000000  0.00000  0.000000   \n",
       "1  0.000000  0.000000  0.000000   0.190097    0.000000  0.00000  0.000000   \n",
       "2  0.237761  0.237761  0.237761   0.000000    0.000000  0.00000  0.000000   \n",
       "3  0.000000  0.000000  0.000000   0.000000    0.270444  0.00000  0.000000   \n",
       "4  0.000000  0.000000  0.000000   0.000000    0.000000  0.13565  0.271301   \n",
       "5  0.000000  0.000000  0.000000   0.000000    0.000000  0.00000  0.000000   \n",
       "\n",
       "   awesomeness     bane   barsoom  ...  terrorist   threats   toretto  \\\n",
       "0     0.000000  0.00000  0.000000  ...    0.00000  0.000000  0.333333   \n",
       "1     0.000000  0.00000  0.000000  ...    0.00000  0.000000  0.000000   \n",
       "2     0.000000  0.00000  0.000000  ...    0.00000  0.000000  0.000000   \n",
       "3     0.270444  0.00000  0.000000  ...    0.00000  0.270444  0.000000   \n",
       "4     0.000000  0.13565  0.000000  ...    0.13565  0.000000  0.000000   \n",
       "5     0.000000  0.00000  0.353458  ...    0.00000  0.000000  0.000000   \n",
       "\n",
       "   transported  villainous    wanted       war     weary     world     years  \n",
       "0     0.000000     0.00000  0.000000  0.000000  0.000000  0.000000  0.000000  \n",
       "1     0.000000     0.00000  0.000000  0.000000  0.000000  0.155883  0.000000  \n",
       "2     0.000000     0.00000  0.237761  0.000000  0.000000  0.000000  0.389934  \n",
       "3     0.000000     0.00000  0.000000  0.000000  0.000000  0.000000  0.000000  \n",
       "4     0.000000     0.13565  0.000000  0.000000  0.000000  0.000000  0.111235  \n",
       "5     0.176729     0.00000  0.000000  0.176729  0.176729  0.144920  0.000000  \n",
       "\n",
       "[6 rows x 121 columns]"
      ]
     },
     "execution_count": 14,
     "metadata": {},
     "output_type": "execute_result"
    }
   ],
   "source": [
    "pandas.DataFrame(tfidf_matrix.toarray(), columns=tfidf.get_feature_names_out())"
   ]
  },
  {
   "cell_type": "code",
   "execution_count": 15,
   "metadata": {},
   "outputs": [
    {
     "data": {
      "text/plain": [
       "(6, 121)"
      ]
     },
     "execution_count": 15,
     "metadata": {},
     "output_type": "execute_result"
    }
   ],
   "source": [
    "tfidf_matrix.shape"
   ]
  },
  {
   "cell_type": "code",
   "execution_count": 16,
   "metadata": {},
   "outputs": [],
   "source": [
    "from sklearn.metrics.pairwise import linear_kernel\n",
    "similarity_matrix = linear_kernel(tfidf_matrix, tfidf_matrix)"
   ]
  },
  {
   "cell_type": "code",
   "execution_count": 26,
   "metadata": {},
   "outputs": [
    {
     "data": {
      "text/plain": [
       "array([[1.        , 0.        , 0.        , 0.        , 0.        ,\n",
       "        0.        ],\n",
       "       [0.        , 1.        , 0.        , 0.        , 0.        ,\n",
       "        0.02259057],\n",
       "       [0.        , 0.        , 1.        , 0.        , 0.0433744 ,\n",
       "        0.        ],\n",
       "       [0.        , 0.        , 0.        , 1.        , 0.        ,\n",
       "        0.03213867],\n",
       "       [0.        , 0.        , 0.0433744 , 0.        , 1.        ,\n",
       "        0.01612024],\n",
       "       [0.        , 0.02259057, 0.        , 0.03213867, 0.01612024,\n",
       "        1.        ]])"
      ]
     },
     "execution_count": 26,
     "metadata": {},
     "output_type": "execute_result"
    }
   ],
   "source": [
    "similarity_matrix"
   ]
  },
  {
   "cell_type": "code",
   "execution_count": 17,
   "metadata": {},
   "outputs": [],
   "source": [
    "movie_title = \"John Carter\""
   ]
  },
  {
   "cell_type": "code",
   "execution_count": 18,
   "metadata": {},
   "outputs": [
    {
     "data": {
      "text/plain": [
       "np.int64(5)"
      ]
     },
     "execution_count": 18,
     "metadata": {},
     "output_type": "execute_result"
    }
   ],
   "source": [
    "idx = movies.loc[movies[\"title\"]==movie_title].index[0]\n",
    "idx"
   ]
  },
  {
   "cell_type": "code",
   "execution_count": 19,
   "metadata": {},
   "outputs": [
    {
     "data": {
      "text/plain": [
       "[(0, np.float64(0.0)),\n",
       " (1, np.float64(0.02259056579532686)),\n",
       " (2, np.float64(0.0)),\n",
       " (3, np.float64(0.032138674066915646)),\n",
       " (4, np.float64(0.016120240648257757)),\n",
       " (5, np.float64(1.0000000000000007))]"
      ]
     },
     "execution_count": 19,
     "metadata": {},
     "output_type": "execute_result"
    }
   ],
   "source": [
    "scores = list(enumerate(similarity_matrix[idx]))\n",
    "scores"
   ]
  },
  {
   "cell_type": "code",
   "execution_count": 20,
   "metadata": {},
   "outputs": [],
   "source": [
    "scores = sorted(scores, key=lambda x: x[1], reverse=True)"
   ]
  },
  {
   "cell_type": "code",
   "execution_count": 21,
   "metadata": {},
   "outputs": [
    {
     "data": {
      "text/plain": [
       "[(5, np.float64(1.0000000000000007)),\n",
       " (3, np.float64(0.032138674066915646)),\n",
       " (1, np.float64(0.02259056579532686)),\n",
       " (4, np.float64(0.016120240648257757)),\n",
       " (0, np.float64(0.0)),\n",
       " (2, np.float64(0.0))]"
      ]
     },
     "execution_count": 21,
     "metadata": {},
     "output_type": "execute_result"
    }
   ],
   "source": [
    "scores"
   ]
  },
  {
   "cell_type": "code",
   "execution_count": 22,
   "metadata": {},
   "outputs": [
    {
     "data": {
      "text/plain": [
       "[3, 1, 4]"
      ]
     },
     "execution_count": 22,
     "metadata": {},
     "output_type": "execute_result"
    }
   ],
   "source": [
    "movies_indices = [tpl[0] for tpl in scores[1:4]]\n",
    "movies_indices"
   ]
  },
  {
   "cell_type": "code",
   "execution_count": 23,
   "metadata": {},
   "outputs": [
    {
     "data": {
      "text/plain": [
       "['Kung Fu Panda 3', 'Cars 2', 'The Dark Knight Rises']"
      ]
     },
     "execution_count": 23,
     "metadata": {},
     "output_type": "execute_result"
    }
   ],
   "source": [
    "list(movies[\"title\"].iloc[movies_indices])"
   ]
  },
  {
   "cell_type": "code",
   "execution_count": 24,
   "metadata": {},
   "outputs": [],
   "source": [
    "def similar_movies(movie_title, nr_movies):\n",
    "    idx = movies.loc[movies[\"title\"]==movie_title].index[0]\n",
    "    scores = list(enumerate(similarity_matrix[idx]))\n",
    "    scores = sorted(scores, key=lambda x: x[1], reverse=True)\n",
    "    movies_indices = [tpl[0] for tpl in scores[1:nr_movies+1]]\n",
    "    similar_titles = list(movies[\"title\"].iloc[movies_indices])\n",
    "    return similar_titles"
   ]
  },
  {
   "cell_type": "code",
   "execution_count": 25,
   "metadata": {},
   "outputs": [
    {
     "data": {
      "text/plain": [
       "['John Carter', 'Furious 7', 'Cars 2']"
      ]
     },
     "execution_count": 25,
     "metadata": {},
     "output_type": "execute_result"
    }
   ],
   "source": [
    "similar_movies(\"Kung Fu Panda 3\", 3)"
   ]
  }
 ],
 "metadata": {
  "kernelspec": {
   "display_name": "bootcamp",
   "language": "python",
   "name": "python3"
  },
  "language_info": {
   "codemirror_mode": {
    "name": "ipython",
    "version": 3
   },
   "file_extension": ".py",
   "mimetype": "text/x-python",
   "name": "python",
   "nbconvert_exporter": "python",
   "pygments_lexer": "ipython3",
   "version": "3.10.14"
  }
 },
 "nbformat": 4,
 "nbformat_minor": 2
}
